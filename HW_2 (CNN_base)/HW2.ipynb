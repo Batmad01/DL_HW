{
 "cells": [
  {
   "cell_type": "markdown",
   "metadata": {
    "id": "w35Q6hOIy4sk",
    "pycharm": {
     "name": "#%% md\n"
    }
   },
   "source": [
    "# Глубинное обучение, ИИ ВШЭ\n",
    "\n",
    "## Домашнее задание 2. Классификация при помощи CNN. \n",
    "\n",
    "### О задании\n",
    "\n",
    "В этом задании вам предстоит познакомиться со сверточными сетями и их обучением для классификации изображений с использованием библиотеки PyTorch.\n"
   ]
  },
  {
   "cell_type": "code",
   "execution_count": null,
   "metadata": {
    "id": "SaACifdX2QOo",
    "pycharm": {
     "name": "#%%\n"
    }
   },
   "outputs": [],
   "source": [
    "import matplotlib.pyplot as plt\n",
    "import wandb\n",
    "import numpy as np\n",
    "import torch\n",
    "import torch.nn as nn\n",
    "import torch.nn.functional as F\n",
    "import torch.optim as optim\n",
    "import torchvision\n",
    "import torchvision.transforms as transforms\n",
    "from sklearn.model_selection import train_test_split"
   ]
  },
  {
   "cell_type": "markdown",
   "metadata": {
    "id": "TIXaUYM-0JFl",
    "pycharm": {
     "name": "#%% md\n"
    }
   },
   "source": [
    "## 0. Загрузка данных\n",
    "\n",
    "Работать мы будем с набором данных [CIFAR10](https://www.cs.toronto.edu/~kriz/cifar.html). CIFAR10 представляет собой набор изображений 32х32 пикселя, разделенных на 10 классов.\n",
    "\n",
    "![title](https://pytorch.org/tutorials/_images/cifar10.png)\n",
    "\n",
    "\n"
   ]
  },
  {
   "cell_type": "markdown",
   "metadata": {
    "id": "g-0EEjl_10vB",
    "pycharm": {
     "name": "#%% md\n"
    }
   },
   "source": [
    "Набор данных уже определен в <code>torchvision.datasets</code>, так что возьмем его оттуда. \n",
    "\n"
   ]
  },
  {
   "cell_type": "code",
   "execution_count": null,
   "metadata": {
    "id": "Cbwe92dT3aPZ",
    "pycharm": {
     "name": "#%%\n"
    }
   },
   "outputs": [],
   "source": [
    "def get_cifar10_data(batch_size, transform_train):\n",
    "    torch.manual_seed(0)\n",
    "    np.random.seed(0)\n",
    "\n",
    "    transform_test = transforms.Compose(\n",
    "        [\n",
    "            transforms.ToTensor(),\n",
    "            # Переводим цвета пикселей в отрезок [-1, 1]\n",
    "            transforms.Normalize((0.5, 0.5, 0.5), (0.5, 0.5, 0.5)),\n",
    "        ]\n",
    "    )\n",
    "\n",
    "    # Загружаем данные\n",
    "    trainvalset = torchvision.datasets.CIFAR10(\n",
    "        root=\"./data\", train=True, download=True, transform=transform_train\n",
    "    )\n",
    "    testset = torchvision.datasets.CIFAR10(\n",
    "        root=\"./data\", train=False, download=True, transform=transform_test\n",
    "    )\n",
    "\n",
    "    # В датасете определено разбиение только на train и test,\n",
    "    # так что валидацию дополнительно выделяем из обучающей выборки\n",
    "    train_idx, valid_idx = train_test_split(\n",
    "        np.arange(len(trainvalset)), test_size=0.3, shuffle=True, random_state=0\n",
    "    )\n",
    "    trainset = torch.utils.data.Subset(trainvalset, train_idx)\n",
    "    valset = torch.utils.data.Subset(trainvalset, valid_idx)\n",
    "\n",
    "    train_loader = torch.utils.data.DataLoader(\n",
    "        trainset, batch_size=batch_size, shuffle=True, num_workers=2\n",
    "    )\n",
    "    val_loader = torch.utils.data.DataLoader(\n",
    "        valset, batch_size=batch_size, shuffle=False, num_workers=2\n",
    "    )\n",
    "    test_loader = torch.utils.data.DataLoader(\n",
    "        testset, batch_size=batch_size, shuffle=False, num_workers=2\n",
    "    )\n",
    "\n",
    "    return train_loader, val_loader, test_loader"
   ]
  },
  {
   "cell_type": "code",
   "execution_count": 3,
   "metadata": {
    "colab": {
     "base_uri": "https://localhost:8080/",
     "height": 101,
     "referenced_widgets": [
      "aa9da821ba0c42b5b051355e50e691f0",
      "95c5696493db48738dbdc9940acec1d8",
      "fe515a1f743f49d0b251b43919d52a8e",
      "f4f339c969fd4e21bc683ecb2567897b",
      "17b2be81159e41f1a5c6bb966516572e",
      "22bb21a6c57a413fb7374efe31349e6e",
      "18b20091dbf64b129824a8fb3266e3c0",
      "9bad0d6a00c14229b0d776a2cfe15090",
      "0fee9f5b7bdb4129a71ef0cfe9d3b1fa",
      "cd991379661b4b4ab405bf66f75c6834",
      "7d238166caf64537ad9aa2040dcdc1ec"
     ]
    },
    "id": "2G2rLnN5y6Jj",
    "outputId": "542c91e6-44f6-4e26-f1e8-5df3b83fd044",
    "pycharm": {
     "name": "#%%\n"
    }
   },
   "outputs": [],
   "source": [
    "transform = transforms.Compose(\n",
    "    [transforms.ToTensor(), transforms.Normalize((0.5, 0.5, 0.5), (0.5, 0.5, 0.5))]\n",
    ")\n",
    "\n",
    "train_loader, val_loader, test_loader = get_cifar10_data(\n",
    "    batch_size=64, transform_train=transform\n",
    ")"
   ]
  },
  {
   "cell_type": "markdown",
   "metadata": {
    "id": "-82HWgXs77W1",
    "pycharm": {
     "name": "#%% md\n"
    }
   },
   "source": [
    "Посмотрим на изображения:"
   ]
  },
  {
   "cell_type": "code",
   "execution_count": 4,
   "metadata": {
    "colab": {
     "base_uri": "https://localhost:8080/",
     "height": 155
    },
    "id": "ACnwaC5iy6L2",
    "outputId": "fd2fc631-ea7b-45f2-9728-eb1c5f9e683c",
    "pycharm": {
     "name": "#%%\n"
    }
   },
   "outputs": [
    {
     "data": {
      "image/png": "[encoded data removed]",
      "text/plain": [
       "<Figure size 640x480 with 1 Axes>"
      ]
     },
     "metadata": {},
     "output_type": "display_data"
    },
    {
     "name": "stdout",
     "output_type": "stream",
     "text": [
      "ship frog horse horse\n"
     ]
    }
   ],
   "source": [
    "def imshow(img):\n",
    "    img = img / 2 + 0.5\n",
    "    npimg = img.numpy()\n",
    "    plt.imshow(np.transpose(npimg, (1, 2, 0)))\n",
    "    plt.show()\n",
    "\n",
    "\n",
    "dataiter = iter(train_loader)\n",
    "images, labels = next(dataiter)\n",
    "\n",
    "imshow(torchvision.utils.make_grid(images[:4]))\n",
    "\n",
    "classes = (\n",
    "    \"plane\",\n",
    "    \"car\",\n",
    "    \"bird\",\n",
    "    \"cat\",\n",
    "    \"deer\",\n",
    "    \"dog\",\n",
    "    \"frog\",\n",
    "    \"horse\",\n",
    "    \"ship\",\n",
    "    \"truck\",\n",
    ")\n",
    "print(*[classes[labels[i]] for i in range(4)])"
   ]
  },
  {
   "cell_type": "markdown",
   "metadata": {
    "id": "KFDilng29YZ_",
    "pycharm": {
     "name": "#%% md\n"
    }
   },
   "source": [
    "## 1. Задание сверточной сети (3 балла)"
   ]
  },
  {
   "cell_type": "markdown",
   "metadata": {
    "id": "OX7Ul8YbYdQR",
    "pycharm": {
     "name": "#%% md\n"
    }
   },
   "source": [
    "Теперь нам нужно задать сверточную нейронную сеть, которую мы будем обучать классифицировать изображения.\n",
    "\n",
    "Используем сеть, основанную на одном блоке архитектуры ResNet.\n",
    "\n",
    "<img src=\"https://i.ibb.co/2hg962h/basic-block.png\" width=\"500\"/>\n",
    "\n",
    "__Указания:__\n",
    "\n",
    "- Все сверточные слои должны иметь 32 выходных канала, а также не должны изменять ширину и высоту изображения.\n",
    "- Выход блока сократите до размерности 32х4х4, применив average pooling.\n",
    "- Для получения итоговых логитов, распрямите выход пулинга в вектор из 512 элементов, а затем пропустите его через линейный слой."
   ]
  },
  {
   "cell_type": "markdown",
   "metadata": {
    "id": "sbyIylT9O9Dr",
    "pycharm": {
     "name": "#%% md\n"
    }
   },
   "source": [
    "**Задание 1.1 (3 балла).**\n",
    "\n",
    "Определите архитектуру сети соответственно схеме и указаниям выше.\n",
    "\n",
    "Ключевые слова: <code>Conv2d</code>, <code>BatchNorm2d</code>, <code>AvgPool2d</code>."
   ]
  },
  {
   "cell_type": "code",
   "execution_count": 5,
   "metadata": {
    "id": "s9ml1QGKy6N9",
    "pycharm": {
     "name": "#%%\n"
    }
   },
   "outputs": [],
   "source": [
    "n_classes = 10\n",
    "\n",
    "class BasicBlockNet(nn.Module):\n",
    "    def __init__(self):\n",
    "        super().__init__()\n",
    "        # Первый слой\n",
    "        self.conv1 = nn.Conv2d(3, 32, kernel_size=3, bias=False, stride=1, padding=1)\n",
    "        self.bn1 = nn.BatchNorm2d(32)\n",
    "        self.relu = nn.ReLU(inplace=True)\n",
    "        \n",
    "        # Второй слой\n",
    "        self.conv2 = nn.Conv2d(32, 32, kernel_size=3, bias=False, stride=1, padding=1)\n",
    "        self.bn2 = nn.BatchNorm2d(32)\n",
    "\n",
    "        # Shortcut\n",
    "        self.shortcut = nn.Sequential(nn.Conv2d(3, 32, kernel_size=1, stride=1, bias=False))\n",
    "\n",
    "        # Average Pooling (4x4)\n",
    "        # kernel_size=8 для входа 32x32 -> выхода 4x4\n",
    "        self.pool = nn.AvgPool2d(kernel_size=8)\n",
    "\n",
    "        # Линейный слой после пулинга\n",
    "        self.fc = nn.Linear(in_features=32*4*4, out_features=n_classes)\n",
    "\n",
    "\n",
    "    def forward(self, x):\n",
    "        identity = x # Для shortcut\n",
    "\n",
    "        # 1 Слой\n",
    "        out = self.conv1(x)\n",
    "        out = self.bn1(out)\n",
    "        out = self.relu(out)\n",
    "\n",
    "        # 2 Слой\n",
    "        out = self.conv2(out)\n",
    "        out = self.bn2(out)\n",
    "\n",
    "        # Shortcut, сложениие \n",
    "        shortcut_out = self.shortcut(identity)\n",
    "        out += shortcut_out\n",
    "\n",
    "        # ReLU и Pooling\n",
    "        out = self.relu(out)\n",
    "        out = self.pool(out)\n",
    "\n",
    "        # Распрямление в вектор (512x1)\n",
    "        out = torch.flatten(out, 1)\n",
    "        \n",
    "        # Финальный линейный слой\n",
    "        out = self.fc(out)\n",
    "\n",
    "        return out"
   ]
  },
  {
   "cell_type": "code",
   "execution_count": 6,
   "metadata": {
    "id": "FI4BQg7Ky6Pw",
    "pycharm": {
     "name": "#%%\n"
    }
   },
   "outputs": [
    {
     "data": {
      "text/plain": [
       "BasicBlockNet(\n",
       "  (conv1): Conv2d(3, 32, kernel_size=(3, 3), stride=(1, 1), padding=(1, 1), bias=False)\n",
       "  (bn1): BatchNorm2d(32, eps=1e-05, momentum=0.1, affine=True, track_running_stats=True)\n",
       "  (relu): ReLU(inplace=True)\n",
       "  (conv2): Conv2d(32, 32, kernel_size=(3, 3), stride=(1, 1), padding=(1, 1), bias=False)\n",
       "  (bn2): BatchNorm2d(32, eps=1e-05, momentum=0.1, affine=True, track_running_stats=True)\n",
       "  (shortcut): Sequential(\n",
       "    (0): Conv2d(3, 32, kernel_size=(1, 1), stride=(1, 1), bias=False)\n",
       "  )\n",
       "  (pool): AvgPool2d(kernel_size=8, stride=8, padding=0)\n",
       "  (fc): Linear(in_features=512, out_features=10, bias=True)\n",
       ")"
      ]
     },
     "execution_count": 6,
     "metadata": {},
     "output_type": "execute_result"
    }
   ],
   "source": [
    "net = BasicBlockNet()\n",
    "net"
   ]
  },
  {
   "cell_type": "markdown",
   "metadata": {
    "id": "igPoGZEub8d3",
    "pycharm": {
     "name": "#%% md\n"
    }
   },
   "source": [
    "Проверим, что выход сети имеет корректную размерность:"
   ]
  },
  {
   "cell_type": "code",
   "execution_count": 7,
   "metadata": {
    "id": "cCIzFUpJ_Agw",
    "pycharm": {
     "name": "#%%\n"
    }
   },
   "outputs": [],
   "source": [
    "assert net(torch.zeros((10, 3, 32, 32))).shape == (10, 10)"
   ]
  },
  {
   "cell_type": "markdown",
   "metadata": {
    "id": "08osX622cDGz",
    "pycharm": {
     "name": "#%% md\n"
    }
   },
   "source": [
    "Чтобы проводить вычисления на GPU, в PyTorch необходимо руками перекладывать объекты, с которыми вы хотите проводить вычисления, на графический ускоритель. Это делается следующим образрм:"
   ]
  },
  {
   "cell_type": "code",
   "execution_count": 8,
   "metadata": {
    "id": "56hDOMCFcDZX",
    "pycharm": {
     "name": "#%%\n"
    }
   },
   "outputs": [
    {
     "name": "stdout",
     "output_type": "stream",
     "text": [
      "cuda:0\n"
     ]
    }
   ],
   "source": [
    "device = torch.device(\"cuda:0\" if torch.cuda.is_available() else \"cpu\")\n",
    "print(device)"
   ]
  },
  {
   "cell_type": "code",
   "execution_count": 9,
   "metadata": {
    "id": "ohnDWbp0qbtC",
    "pycharm": {
     "name": "#%%\n"
    }
   },
   "outputs": [],
   "source": [
    "net = net.to(device)"
   ]
  },
  {
   "cell_type": "markdown",
   "metadata": {
    "id": "H_bOlTVUp5QF",
    "pycharm": {
     "name": "#%% md\n"
    }
   },
   "source": [
    "Подключение GPU в google.colab:\n",
    "\n",
    "**Среда выполнения** -> **Сменить среду выполнения** -> **Аппаратный ускоритель** -> **GPU**"
   ]
  },
  {
   "cell_type": "markdown",
   "metadata": {
    "id": "AGi6XX_7_Bgg",
    "pycharm": {
     "name": "#%% md\n"
    }
   },
   "source": [
    "## 2. Обучение и тестирование модели (3 балла)"
   ]
  },
  {
   "cell_type": "markdown",
   "metadata": {
    "id": "0agj_MQoO9Ds",
    "pycharm": {
     "name": "#%% md\n"
    }
   },
   "source": [
    "**Задание 2.1 (2 балла).** Переходим к обучению модели. Заполните пропуски в функциях <code>test</code> и <code>train_epoch</code>. В качестве функции потерь будем использовать [кросс-энтропию](https://pytorch.org/docs/stable/generated/torch.nn.functional.cross_entropy.html), а в качестве метрики качества accuracy."
   ]
  },
  {
   "cell_type": "code",
   "execution_count": null,
   "metadata": {
    "id": "g8gsPPRIevDS",
    "pycharm": {
     "name": "#%%\n"
    }
   },
   "outputs": [],
   "source": [
    "def test(model, loader):\n",
    "    loss_log = []\n",
    "    acc_log = []\n",
    "    model.eval()\n",
    "    criterion = nn.CrossEntropyLoss()\n",
    "\n",
    "    for data, target in loader:\n",
    "        data, target = data.to(device), target.to(device)\n",
    "\n",
    "        # forward\n",
    "        y_pred = model(data)\n",
    "        loss = criterion(y_pred, target)\n",
    "        loss_log.append(loss.item())\n",
    "\n",
    "        # accuracy\n",
    "        pred_classes = y_pred.argmax(dim=-1)\n",
    "        acc = (pred_classes==target).float().mean()\n",
    "        acc_log.append(acc.item())\n",
    "\n",
    "    return np.mean(loss_log), np.mean(acc_log)\n",
    "\n",
    "\n",
    "def train_epoch(model, optimizer, train_loader):\n",
    "    loss_log = []\n",
    "    acc_log = []\n",
    "    model.train()\n",
    "    criterion = nn.CrossEntropyLoss()\n",
    "\n",
    "    for data, target in train_loader:\n",
    "        data, target = data.to(device), target.to(device)\n",
    "\n",
    "        # zero gradients\n",
    "        optimizer.zero_grad()\n",
    "\n",
    "        # forward + backward + optimize\n",
    "        y_pred = model(data)\n",
    "        loss = criterion(y_pred, target)\n",
    "        loss.backward()\n",
    "        optimizer.step()\n",
    "    \n",
    "        # accuracy\n",
    "        pred_classes = y_pred.argmax(dim=-1)\n",
    "        acc = (pred_classes==target).float().mean()\n",
    "\n",
    "        loss_log.append(loss.item())\n",
    "        acc_log.append(acc.item())\n",
    "\n",
    "    return loss_log, acc_log\n",
    "\n",
    "\n",
    "def train(model, optimizer, n_epochs, train_loader, val_loader, scheduler=None):\n",
    "    train_loss_log, train_acc_log, val_loss_log, val_acc_log = [], [], [], []\n",
    "\n",
    "    for epoch in range(n_epochs):\n",
    "        train_loss, train_acc = train_epoch(model, optimizer, train_loader)\n",
    "        val_loss, val_acc = test(model, val_loader)\n",
    "\n",
    "        train_loss_log.extend(train_loss)\n",
    "        train_acc_log.extend(train_acc)\n",
    "\n",
    "        val_loss_log.append(val_loss)\n",
    "        val_acc_log.append(val_acc)\n",
    "\n",
    "        # Логирование метрик по эпохам\n",
    "        wandb.log({\n",
    "            \"epoch\": epoch + 1,\n",
    "            \"train_loss\": np.mean(train_loss),\n",
    "            \"train_accuracy\": np.mean(train_acc),\n",
    "            \"val_loss\": val_loss,\n",
    "            \"val_accuracy\": val_acc,\n",
    "            \"learning_rate\": optimizer.param_groups[0]['lr']\n",
    "        })\n",
    "\n",
    "        print(f\"Epoch {epoch}\")\n",
    "        print(f\" train loss: {np.mean(train_loss)}, train acc: {np.mean(train_acc)}\")\n",
    "        print(f\" val loss: {val_loss}, val acc: {val_acc}\\n\")\n",
    "\n",
    "        # Небольшая модификация, чтобы ReduceLROnPlateau заработал\n",
    "        if scheduler is not None:\n",
    "            if isinstance(scheduler, torch.optim.lr_scheduler.ReduceLROnPlateau):\n",
    "                scheduler.step(val_loss)\n",
    "            else:\n",
    "                scheduler.step()\n",
    "\n",
    "    return train_loss_log, train_acc_log, val_loss_log, val_acc_log"
   ]
  },
  {
   "cell_type": "markdown",
   "metadata": {
    "id": "iSOqk_CAO9Dt",
    "pycharm": {
     "name": "#%% md\n"
    }
   },
   "source": [
    "Запустим обучение модели. В качестве оптимизатора будем использовать стохастический градиентный спуск, который является де-факто стандартом в задачах компьютерного зрения (наравне с <code>Adam</code>).\n",
    "\n",
    "__Замечание:__ Для достижения наилучшего качества в нашем случае потребуется обучать модель несколько сотен эпох. Однако в целях экономии вашего времени и сил, во всех экспериментах мы ограничимся 20 эпохами."
   ]
  },
  {
   "cell_type": "code",
   "execution_count": null,
   "metadata": {
    "id": "MKZBGhuAgMDu",
    "pycharm": {
     "name": "#%%\n"
    },
    "scrolled": true
   },
   "outputs": [
    {
     "name": "stdout",
     "output_type": "stream",
     "text": [
      "Epoch 0\n",
      " train loss: 1.4630173440389267, train acc: 0.48063299817184646\n",
      " val loss: 1.222879353989946, val acc: 0.5693927305809995\n",
      "\n",
      "Epoch 1\n",
      " train loss: 1.1496903250160775, train acc: 0.5992018151108918\n",
      " val loss: 1.0583167875066717, val acc: 0.6284796099713508\n",
      "\n",
      "Epoch 2\n",
      " train loss: 1.0316870319342046, train acc: 0.6396415513655821\n",
      " val loss: 1.0251429151981435, val acc: 0.6376994680851064\n",
      "\n",
      "Epoch 3\n",
      " train loss: 0.984104321796236, train acc: 0.6576496800731262\n",
      " val loss: 0.9738151740520559, val acc: 0.6666888297872341\n",
      "\n",
      "Epoch 4\n",
      " train loss: 0.9465742383622164, train acc: 0.6734950379000285\n",
      " val loss: 0.9596681447739297, val acc: 0.6630984042553192\n",
      "\n",
      "Epoch 5\n",
      " train loss: 0.9169915112542496, train acc: 0.6833907352722977\n",
      " val loss: 1.026805830001831, val acc: 0.6485815603682336\n",
      "\n",
      "Epoch 6\n",
      " train loss: 0.900769990802465, train acc: 0.6859778989603577\n",
      " val loss: 1.0144137144088745, val acc: 0.6555186170212766\n",
      "\n",
      "Epoch 7\n",
      " train loss: 0.8799717176766892, train acc: 0.6945351267427587\n",
      " val loss: 0.9142729424415751, val acc: 0.683599290949233\n",
      "\n",
      "Epoch 8\n",
      " train loss: 0.8622458873544794, train acc: 0.7014396709323584\n",
      " val loss: 0.9225405558626703, val acc: 0.6838209220703612\n",
      "\n",
      "Epoch 9\n",
      " train loss: 0.8427129982812314, train acc: 0.7076015278451839\n",
      " val loss: 0.9791812610118947, val acc: 0.666533688027808\n",
      "\n",
      "Epoch 10\n",
      " train loss: 0.8347317979039396, train acc: 0.7106008422875971\n",
      " val loss: 0.9056049996234001, val acc: 0.6837765957446809\n",
      "\n",
      "Epoch 11\n",
      " train loss: 0.8197052574680754, train acc: 0.713428767333301\n",
      " val loss: 0.9775326835348251, val acc: 0.6673537234042554\n",
      "\n",
      "Epoch 12\n",
      " train loss: 0.8155804733580602, train acc: 0.7177747127342922\n",
      " val loss: 0.9526299803814989, val acc: 0.680718085106383\n",
      "\n",
      "Epoch 13\n",
      " train loss: 0.7993928787368307, train acc: 0.7235693066386025\n",
      " val loss: 0.9031678648705178, val acc: 0.6924867021276596\n",
      "\n",
      "Epoch 14\n",
      " train loss: 0.7913235935912054, train acc: 0.7258422565416619\n",
      " val loss: 0.9112622841875604, val acc: 0.690625\n",
      "\n",
      "Epoch 15\n",
      " train loss: 0.7789844280514029, train acc: 0.7303555106550074\n",
      " val loss: 0.8863034911612246, val acc: 0.6953014186088075\n",
      "\n",
      "Epoch 16\n",
      " train loss: 0.7743567916985186, train acc: 0.7304901737835551\n",
      " val loss: 0.9171400955382814, val acc: 0.6868351063829787\n",
      "\n",
      "Epoch 17\n",
      " train loss: 0.7630669943157454, train acc: 0.7351013646483203\n",
      " val loss: 0.9346332260902892, val acc: 0.6854166667512123\n",
      "\n",
      "Epoch 18\n",
      " train loss: 0.7518273042804362, train acc: 0.7376069144313471\n",
      " val loss: 0.9042482234062033, val acc: 0.6989583335024245\n",
      "\n",
      "Epoch 19\n",
      " train loss: 0.7447442740910232, train acc: 0.7422548315642739\n",
      " val loss: 0.8822452879966574, val acc: 0.7038342199427017\n",
      "\n"
     ]
    }
   ],
   "source": [
    "optimizer = optim.SGD(net.parameters(), lr=0.1, momentum=0.9)\n",
    "train_loss_log, train_acc_log, val_loss_log, val_acc_log = train(\n",
    "    net, optimizer, 20, train_loader, val_loader\n",
    ")"
   ]
  },
  {
   "cell_type": "markdown",
   "metadata": {
    "id": "gUb1jQW8O9Dt",
    "pycharm": {
     "name": "#%% md\n"
    }
   },
   "source": [
    "Посчитайте точность на тестовой выборке:"
   ]
  },
  {
   "cell_type": "code",
   "execution_count": null,
   "metadata": {
    "id": "Jyuc55B9_Amc",
    "pycharm": {
     "name": "#%%\n"
    }
   },
   "outputs": [
    {
     "name": "stdout",
     "output_type": "stream",
     "text": [
      "test loss: 0.8961443559379335, test accuracy: 0.6960589171974523\n"
     ]
    }
   ],
   "source": [
    "test_loss, test_acc = test(net, test_loader)\n",
    "print(f\"test loss: {test_loss}, test accuracy: {test_acc}\")"
   ]
  },
  {
   "cell_type": "markdown",
   "metadata": {
    "id": "zM38Q9fwO9Dt",
    "pycharm": {
     "name": "#%% md\n"
    }
   },
   "source": [
    "Если вы все сделали правильно, у вас должна была получиться точность $\\ge 67\\%$."
   ]
  },
  {
   "cell_type": "markdown",
   "metadata": {},
   "source": [
    "`Выводы`\n",
    "* По эпохам обучения можем наблюдать стабильное снижение лосса и увеличение точности предсказаний\n",
    "* Точность на обучающей выборке - 0.742, на валидации - 0.704, на тестовой выборке - 0.696, неплохой результат, но наблюдается переобучение модели (видим разрыв между метриками на выборках)"
   ]
  },
  {
   "cell_type": "markdown",
   "metadata": {
    "id": "DHFNSKcoO9Dt",
    "pycharm": {
     "name": "#%% md\n"
    }
   },
   "source": [
    "**Задание 2.2 (1 балл).** Постройте графики зависимости функции потерь и точности классификации от номера шага оптимизатора. На каждом графике расположите данные и для обучающей и для валидационной выборки, итого у вас должно получиться два графика. Обратите внимание, что на обучающей выборке эти данные считаются по каждому батчу, на валидационной же они считаются по всей выборке раз в эпоху."
   ]
  },
  {
   "cell_type": "code",
   "execution_count": null,
   "metadata": {
    "id": "LzIP0tGLO9Dt",
    "pycharm": {
     "name": "#%%\n"
    }
   },
   "outputs": [],
   "source": [
    "# Функция для построения графиков\n",
    "def plot_history(train_history, val_history, title=\"loss\", ax=None):\n",
    "    ax.set_title(title)\n",
    "    ax.plot(train_history, label=\"train\", zorder=1)\n",
    "\n",
    "    steps = list(\n",
    "        range(0, len(train_history) + 1, int(len(train_history) / len(val_history)))\n",
    "    )[1:]\n",
    "\n",
    "    ax.scatter(\n",
    "        steps, val_history, linestyle=\"-\", linewidth=1, c=\"orange\", label=\"val\", zorder=2\n",
    "    )\n",
    "    ax.set_xlabel(\"train steps\")\n",
    "\n",
    "    ax.legend(loc=\"best\")\n",
    "    ax.grid()"
   ]
  },
  {
   "cell_type": "code",
   "execution_count": null,
   "metadata": {},
   "outputs": [
    {
     "data": {
      "image/png": "[encoded data removed]",
      "text/plain": [
       "<Figure size 1200x600 with 2 Axes>"
      ]
     },
     "metadata": {},
     "output_type": "display_data"
    }
   ],
   "source": [
    "# Визуализируем\n",
    "fig, (ax1, ax2) = plt.subplots(1, 2, figsize=(12, 6))\n",
    "\n",
    "plot_history(train_loss_log, val_loss_log, \"loss\", ax1)\n",
    "plot_history(train_acc_log, val_acc_log, \"accuracy\", ax2)\n",
    "\n",
    "plt.tight_layout()\n",
    "plt.show()"
   ]
  },
  {
   "cell_type": "markdown",
   "metadata": {},
   "source": [
    "`Выводы`\n",
    "* С течением времени loss на обучающей и валидационной выборках уменьшается, accuracy растёт (как и должно быть)\n",
    "* Учитывая разрыв между графиками валидации и обучения, можно сделать вывод о переобучении сети (что мы также подтвердили по метрикам точности в прошлом пункте)"
   ]
  },
  {
   "cell_type": "markdown",
   "metadata": {
    "id": "_ttOJPj-O9Dt",
    "pycharm": {
     "name": "#%% md\n"
    }
   },
   "source": [
    "## 3. Расписание длины шага (2 балла)"
   ]
  },
  {
   "cell_type": "markdown",
   "metadata": {
    "id": "qiz3JstuO9Dt",
    "pycharm": {
     "name": "#%% md\n"
    }
   },
   "source": [
    "С курса \"Машинное обучение 1\" вы уже должны знать, что сходимость стохастического градиентного спуска мы можем теоретически гарантировать только если будем определенным образом со временем уменьшать длину шага. На практике при обучении нейронных сетей такая техника оказывается очень полезной, однако теоретически обоснованными способами уменьшения длины шага фантазия не ограничивается.\n",
    "\n",
    "Одним из простейших способов является кусочно постоянная функция: на нескольких фиксированных эпохах уменьшаем длину шага в константу раз."
   ]
  },
  {
   "cell_type": "code",
   "execution_count": null,
   "metadata": {
    "id": "V2Z0OT3nO9Du",
    "pycharm": {
     "name": "#%%\n"
    }
   },
   "outputs": [
    {
     "name": "stdout",
     "output_type": "stream",
     "text": [
      "Epoch 0\n",
      " train loss: 1.4627582919009208, train acc: 0.4782253852492059\n",
      " val loss: 1.281145076041526, val acc: 0.5482047872340425\n",
      "\n",
      "Epoch 1\n",
      " train loss: 1.1582958749486933, train acc: 0.5951986485033193\n",
      " val loss: 1.1777869658267244, val acc: 0.5977171986661058\n",
      "\n",
      "Epoch 2\n",
      " train loss: 1.0440096739659144, train acc: 0.6380623205270366\n",
      " val loss: 1.1605772114814596, val acc: 0.5960328015875309\n",
      "\n",
      "Epoch 3\n",
      " train loss: 0.988529433497999, train acc: 0.6563397754916761\n",
      " val loss: 1.0106505064254112, val acc: 0.647628546268382\n",
      "\n",
      "Epoch 4\n",
      " train loss: 0.9495296642810814, train acc: 0.6699489096836808\n",
      " val loss: 0.9422566099369779, val acc: 0.6737810284533399\n",
      "\n",
      "Epoch 5\n",
      " train loss: 0.9206098360596888, train acc: 0.6809586381345606\n",
      " val loss: 0.9458518127177624, val acc: 0.6738918441407225\n",
      "\n",
      "Epoch 6\n",
      " train loss: 0.8978675586431946, train acc: 0.6872551580669675\n",
      " val loss: 0.9799158720259971, val acc: 0.6651595744680852\n",
      "\n",
      "Epoch 7\n",
      " train loss: 0.8770586428738163, train acc: 0.6961551646427873\n",
      " val loss: 0.9178522117594455, val acc: 0.6840203901554676\n",
      "\n",
      "Epoch 8\n",
      " train loss: 0.8597947790592201, train acc: 0.7020150497147108\n",
      " val loss: 0.9480279552175643, val acc: 0.6715647164811479\n",
      "\n",
      "Epoch 9\n",
      " train loss: 0.8454537658085552, train acc: 0.7081401802504085\n",
      " val loss: 0.9045364702001532, val acc: 0.6895833335024245\n",
      "\n",
      "Epoch 10\n",
      " train loss: 0.7442382887359947, train acc: 0.7439932097464637\n",
      " val loss: 0.8399455719805778, val acc: 0.7082003547790202\n",
      "\n",
      "Epoch 11\n",
      " train loss: 0.7262116290860464, train acc: 0.7499347088323869\n",
      " val loss: 0.8348710524274948, val acc: 0.7135638297872341\n",
      "\n",
      "Epoch 12\n",
      " train loss: 0.7208577502362253, train acc: 0.751885283472769\n",
      " val loss: 0.8326292225655089, val acc: 0.7125886526513607\n",
      "\n",
      "Epoch 13\n",
      " train loss: 0.7169524334793335, train acc: 0.7534767563643795\n",
      " val loss: 0.8286174038623242, val acc: 0.7136524823117764\n",
      "\n",
      "Epoch 14\n",
      " train loss: 0.7122071935119315, train acc: 0.7537664860432501\n",
      " val loss: 0.826404547944982, val acc: 0.7150044327086591\n",
      "\n",
      "Epoch 15\n",
      " train loss: 0.7003901253779584, train acc: 0.7596182097464637\n",
      " val loss: 0.8208543610065542, val acc: 0.7191267731341909\n",
      "\n",
      "Epoch 16\n",
      " train loss: 0.6979186375245752, train acc: 0.7620176613003942\n",
      " val loss: 0.8208021181695004, val acc: 0.7186613476022761\n",
      "\n",
      "Epoch 17\n",
      " train loss: 0.6964135284942509, train acc: 0.7606302233892995\n",
      " val loss: 0.8202391046158811, val acc: 0.718129432708659\n",
      "\n",
      "Epoch 18\n",
      " train loss: 0.6954098690907305, train acc: 0.7612668125459437\n",
      " val loss: 0.8203021318354505, val acc: 0.7182624114320634\n",
      "\n",
      "Epoch 19\n",
      " train loss: 0.6956648107965424, train acc: 0.7616626404539105\n",
      " val loss: 0.8209121885451864, val acc: 0.717597517815042\n",
      "\n"
     ]
    }
   ],
   "source": [
    "net = BasicBlockNet().to(device)\n",
    "optimizer = optim.SGD(net.parameters(), lr=0.1, momentum=0.9)\n",
    "scheduler = optim.lr_scheduler.MultiStepLR(optimizer, milestones=[10, 15], gamma=0.1)\n",
    "tr_loss_log, tr_acc_log, val_loss_log, val_acc_log = train(\n",
    "    net, optimizer, 20, train_loader, val_loader, scheduler\n",
    ")"
   ]
  },
  {
   "cell_type": "markdown",
   "metadata": {
    "id": "5Xc76KvzO9Du",
    "pycharm": {
     "name": "#%% md\n"
    }
   },
   "source": [
    "Посчитайте точность на тестовой выборке:"
   ]
  },
  {
   "cell_type": "code",
   "execution_count": null,
   "metadata": {
    "id": "1AjiYhKqO9Du",
    "pycharm": {
     "name": "#%%\n"
    }
   },
   "outputs": [
    {
     "name": "stdout",
     "output_type": "stream",
     "text": [
      "test loss: 0.8384727520547854, test accuracy: 0.7116839171974523\n"
     ]
    }
   ],
   "source": [
    "test_loss, test_acc = test(net, test_loader)\n",
    "print(f\"test loss: {test_loss}, test accuracy: {test_acc}\")"
   ]
  },
  {
   "cell_type": "markdown",
   "metadata": {},
   "source": [
    "`Выводы`\n",
    "* Если сравнивать с прошлым решением, то мы получаем небольшое повышение общей точности (~1.5-2%) для каждой из выборок"
   ]
  },
  {
   "cell_type": "markdown",
   "metadata": {
    "id": "yE0dgLYrO9Du",
    "pycharm": {
     "name": "#%% md\n"
    }
   },
   "source": [
    "**Задание 3.0 (0.5 баллов).** Здесь может возникнуть вопрос: а что будет, если мы не будем уменьшать длину шага в процессе обучения, а сразу возьмем констатную, равную значению нашей кусочно-постоянной функции на последних эпохах, то есть $0.001$ в нашем случае. Запустите обучение и проверьте, что в таком случае мы получим худшее качество на тестовой выборке."
   ]
  },
  {
   "cell_type": "code",
   "execution_count": null,
   "metadata": {
    "id": "qZ2iB-LBO9Du",
    "pycharm": {
     "name": "#%%\n"
    }
   },
   "outputs": [
    {
     "name": "stdout",
     "output_type": "stream",
     "text": [
      "Epoch 0\n",
      " train loss: 1.801336943122543, train acc: 0.37064181254594375\n",
      " val loss: 1.578994492774314, val acc: 0.4516622340425532\n",
      "\n",
      "Epoch 1\n",
      " train loss: 1.5067746392987547, train acc: 0.46909277879341865\n",
      " val loss: 1.4284316382509596, val acc: 0.5025265957446808\n",
      "\n",
      "Epoch 2\n",
      " train loss: 1.3967475106554885, train acc: 0.5091489293021737\n",
      " val loss: 1.343042268651597, val acc: 0.5330452127659574\n",
      "\n",
      "Epoch 3\n",
      " train loss: 1.3299031968090609, train acc: 0.5346043353978633\n",
      " val loss: 1.3134016589915498, val acc: 0.5384751773895101\n",
      "\n",
      "Epoch 4\n",
      " train loss: 1.2725072565200777, train acc: 0.5555587294332724\n",
      " val loss: 1.2460735473226994, val acc: 0.5630097518575953\n",
      "\n",
      "Epoch 5\n",
      " train loss: 1.2279081818608524, train acc: 0.5676171977951496\n",
      " val loss: 1.2021941611107358, val acc: 0.5811170212765957\n",
      "\n",
      "Epoch 6\n",
      " train loss: 1.1881947033584008, train acc: 0.5844378427787934\n",
      " val loss: 1.2201367208298217, val acc: 0.5713874114320633\n",
      "\n",
      "Epoch 7\n",
      " train loss: 1.154403516535785, train acc: 0.5992058957952467\n",
      " val loss: 1.1500803838384912, val acc: 0.6017065603682336\n",
      "\n",
      "Epoch 8\n",
      " train loss: 1.1280999923536938, train acc: 0.6072326325411335\n",
      " val loss: 1.1327469922126607, val acc: 0.6075354610351806\n",
      "\n",
      "Epoch 9\n",
      " train loss: 1.0964350001903513, train acc: 0.6191850026739145\n",
      " val loss: 1.0959414499871274, val acc: 0.6192154255319149\n",
      "\n",
      "Epoch 10\n",
      " train loss: 1.073395658999518, train acc: 0.6286195808616373\n",
      " val loss: 1.0651799328783724, val acc: 0.6274379433469569\n",
      "\n",
      "Epoch 11\n",
      " train loss: 1.0497893360894603, train acc: 0.6365810264399109\n",
      " val loss: 1.0513045130892003, val acc: 0.6351728723404255\n",
      "\n",
      "Epoch 12\n",
      " train loss: 1.0250029074644476, train acc: 0.6444037282052816\n",
      " val loss: 1.0359990081888564, val acc: 0.6379654255319149\n",
      "\n",
      "Epoch 13\n",
      " train loss: 1.011555055813554, train acc: 0.6500677396653993\n",
      " val loss: 1.0285827626573278, val acc: 0.6391843972053933\n",
      "\n",
      "Epoch 14\n",
      " train loss: 0.9924194288646063, train acc: 0.6540872291193583\n",
      " val loss: 1.0133051494334606, val acc: 0.647251773134191\n",
      "\n",
      "Epoch 15\n",
      " train loss: 0.976889069816966, train acc: 0.6602450052388625\n",
      " val loss: 0.9801881064759924, val acc: 0.6562278369639782\n",
      "\n",
      "Epoch 16\n",
      " train loss: 0.9675301866949804, train acc: 0.6640849439274022\n",
      " val loss: 0.9812185969758541, val acc: 0.6562056739279565\n",
      "\n",
      "Epoch 17\n",
      " train loss: 0.955804966594445, train acc: 0.668451292859135\n",
      " val loss: 0.982113534085294, val acc: 0.6572916667512123\n",
      "\n",
      "Epoch 18\n",
      " train loss: 0.9447126306824972, train acc: 0.674237725285769\n",
      " val loss: 0.9831704408564466, val acc: 0.6591533688788719\n",
      "\n",
      "Epoch 19\n",
      " train loss: 0.9332657096808745, train acc: 0.6778450639853748\n",
      " val loss: 0.9466475692201168, val acc: 0.6711214539852548\n",
      "\n"
     ]
    }
   ],
   "source": [
    "net = BasicBlockNet().to(device)\n",
    "optimizer = optim.SGD(net.parameters(), lr=0.001, momentum=0.9)\n",
    "tr_loss_log, tr_acc_log, val_loss_log, val_acc_log = train(\n",
    "    net, optimizer, 20, train_loader, val_loader, scheduler\n",
    ")"
   ]
  },
  {
   "cell_type": "code",
   "execution_count": null,
   "metadata": {},
   "outputs": [
    {
     "name": "stdout",
     "output_type": "stream",
     "text": [
      "test loss: 0.9543691877346889, test accuracy: 0.6712778662420382\n"
     ]
    }
   ],
   "source": [
    "test_loss, test_acc = test(net, test_loader)\n",
    "print(f\"test loss: {test_loss}, test accuracy: {test_acc}\")"
   ]
  },
  {
   "cell_type": "markdown",
   "metadata": {},
   "source": [
    "`Выводы`\n",
    "* Действительно, получаем самое плохое качество из всех экспериментов - test accuracy (0.671), в сравнении с чистым SGD (0.696) и SGD + MultiStepLR (0.711)\n",
    "* Снижение точности может быть связано с застреванием в локальных минимумах (низкий learning rate не даёт оттуда выбираться), тогда как в случае с MultiStepLR мы быстро сходились к оптимуму с высоким learning rate, а затем уменьшали его, более точно подстраивать веса"
   ]
  },
  {
   "cell_type": "markdown",
   "metadata": {
    "id": "xVotU378O9Du",
    "pycharm": {
     "name": "#%% md\n"
    }
   },
   "source": [
    "**Задание 3.1 (1.5 балла).** Изучите, какие еще способы уменьшения длины шага представлены в <code>torch.optim.lr_scheduler</code>. Выберите несколько из них, объясните, как они устроены, и обучите модель с ними. Удалось ли добиться улучшения качества на тестовой выборке?"
   ]
  },
  {
   "cell_type": "markdown",
   "metadata": {},
   "source": [
    "`В качестве дополнительных планировщиков (lr_scheduler) протестируем ReduceLROnPlateau (уменьшает lr, если validation loss перестал улучшаться в течение заданного числа эпох (patience=3 в нашем случае), уменьшение происходит путем умножения lr на factor (0.1 в нашем случае)) и CosineAnnealingLR (изменяет lr по косинусу в пределах заданного числа эпох (T_max=10 в нашем случае), lr начинается с максимума, уменьшается до минимума, следуя косинусной функции)`"
   ]
  },
  {
   "cell_type": "code",
   "execution_count": null,
   "metadata": {
    "id": "nkGlzocOO9Du",
    "pycharm": {
     "name": "#%%\n"
    }
   },
   "outputs": [
    {
     "name": "stdout",
     "output_type": "stream",
     "text": [
      "Epoch 0\n",
      " train loss: 1.4611760996813312, train acc: 0.47822130456485085\n",
      " val loss: 1.2777619658632482, val acc: 0.5488696808510638\n",
      "\n",
      "Epoch 1\n",
      " train loss: 1.157735820662169, train acc: 0.594810982073029\n",
      " val loss: 1.147703908098505, val acc: 0.5979609929500742\n",
      "\n",
      "Epoch 2\n",
      " train loss: 1.046408590603572, train acc: 0.6377440259487145\n",
      " val loss: 1.178311268319475, val acc: 0.590314716481148\n",
      "\n",
      "Epoch 3\n",
      " train loss: 0.9889754414340478, train acc: 0.6575068555758684\n",
      " val loss: 1.0055191975958804, val acc: 0.6506205675449778\n",
      "\n",
      "Epoch 4\n",
      " train loss: 0.9493921858954909, train acc: 0.6712914599579038\n",
      " val loss: 0.9453206351462831, val acc: 0.6725620569066798\n",
      "\n",
      "Epoch 5\n",
      " train loss: 0.921369020420193, train acc: 0.6789631758573068\n",
      " val loss: 0.9399495309971748, val acc: 0.6736702127659574\n",
      "\n",
      "Epoch 6\n",
      " train loss: 0.9011653257462399, train acc: 0.6848230609292304\n",
      " val loss: 0.978855340277895, val acc: 0.6634530142266699\n",
      "\n",
      "Epoch 7\n",
      " train loss: 0.8791845255621609, train acc: 0.6959266454471749\n",
      " val loss: 0.9386847858733319, val acc: 0.6776817377577437\n",
      "\n",
      "Epoch 8\n",
      " train loss: 0.8639800423242057, train acc: 0.7008357273595207\n",
      " val loss: 0.9379059715473905, val acc: 0.6748448582405739\n",
      "\n",
      "Epoch 9\n",
      " train loss: 0.853133505996882, train acc: 0.7050837360090921\n",
      " val loss: 0.9167191543477646, val acc: 0.6808289007937655\n",
      "\n",
      "Epoch 10\n",
      " train loss: 0.8387884327654864, train acc: 0.7073322016970549\n",
      " val loss: 0.9311150642151528, val acc: 0.6754654255319149\n",
      "\n",
      "Epoch 11\n",
      " train loss: 0.8280870282453854, train acc: 0.7094133586726633\n",
      " val loss: 0.928341251738528, val acc: 0.6825132978723404\n",
      "\n",
      "Epoch 12\n",
      " train loss: 0.8141945082919035, train acc: 0.7164240010913591\n",
      " val loss: 0.9496894565034419, val acc: 0.6762632978723404\n",
      "\n",
      "Epoch 13\n",
      " train loss: 0.8108290833790516, train acc: 0.7183011230864517\n",
      " val loss: 0.8848103573981752, val acc: 0.6941932624958931\n",
      "\n",
      "Epoch 14\n",
      " train loss: 0.793698234303124, train acc: 0.7218880582553159\n",
      " val loss: 0.9166514153176165, val acc: 0.6899822696726373\n",
      "\n",
      "Epoch 15\n",
      " train loss: 0.7876208577121198, train acc: 0.7267930595922731\n",
      " val loss: 0.8760015883344285, val acc: 0.6982269505237011\n",
      "\n",
      "Epoch 16\n",
      " train loss: 0.7798210393903025, train acc: 0.7296413881687185\n",
      " val loss: 0.906575734057325, val acc: 0.691533688027808\n",
      "\n",
      "Epoch 17\n",
      " train loss: 0.7698591090534461, train acc: 0.7318857730633598\n",
      " val loss: 0.8890391089814774, val acc: 0.6952349292471054\n",
      "\n",
      "Epoch 18\n",
      " train loss: 0.7700192222211653, train acc: 0.7312940716525537\n",
      " val loss: 0.8636799528243694, val acc: 0.7050088654173181\n",
      "\n",
      "Epoch 19\n",
      " train loss: 0.7606048159015244, train acc: 0.7345586315587408\n",
      " val loss: 0.8855963552251775, val acc: 0.6958554965384462\n",
      "\n"
     ]
    }
   ],
   "source": [
    "# ReduceLROnPlateau\n",
    "net = BasicBlockNet().to(device)\n",
    "optimizer = optim.SGD(net.parameters(), lr=0.1, momentum=0.9)\n",
    "scheduler = optim.lr_scheduler.ReduceLROnPlateau(optimizer, mode='min', factor=0.1, patience=3)\n",
    "tr_loss_log, tr_acc_log, val_loss_log, val_acc_log = train(\n",
    "    net, optimizer, 20, train_loader, val_loader, scheduler\n",
    ")"
   ]
  },
  {
   "cell_type": "code",
   "execution_count": null,
   "metadata": {},
   "outputs": [
    {
     "name": "stdout",
     "output_type": "stream",
     "text": [
      "test loss: 0.9105066239454185, test accuracy: 0.6832205414012739\n"
     ]
    }
   ],
   "source": [
    "test_loss, test_acc = test(net, test_loader)\n",
    "print(f\"test loss: {test_loss}, test accuracy: {test_acc}\")"
   ]
  },
  {
   "cell_type": "code",
   "execution_count": null,
   "metadata": {},
   "outputs": [
    {
     "name": "stdout",
     "output_type": "stream",
     "text": [
      "Epoch 0\n",
      " train loss: 1.4926678559026072, train acc: 0.47024353624915727\n",
      " val loss: 1.2391971288843358, val acc: 0.5671320922831271\n",
      "\n",
      "Epoch 1\n",
      " train loss: 1.1863067013907913, train acc: 0.5840338535021167\n",
      " val loss: 1.13624350999264, val acc: 0.6002881207364671\n",
      "\n",
      "Epoch 2\n",
      " train loss: 1.0691944110110212, train acc: 0.6256855576958037\n",
      " val loss: 1.0444597401517504, val acc: 0.6376329787234043\n",
      "\n",
      "Epoch 3\n",
      " train loss: 0.9925641008879192, train acc: 0.655976593167516\n",
      " val loss: 0.9984168093255226, val acc: 0.6557402483960415\n",
      "\n",
      "Epoch 4\n",
      " train loss: 0.931428866151046, train acc: 0.6775145273539877\n",
      " val loss: 1.0927237386399127, val acc: 0.6246010638297872\n",
      "\n",
      "Epoch 5\n",
      " train loss: 0.8826115743224756, train acc: 0.6945432881114688\n",
      " val loss: 0.9327439630285222, val acc: 0.6751773050490846\n",
      "\n",
      "Epoch 6\n",
      " train loss: 0.8439794436124387, train acc: 0.7095276182704695\n",
      " val loss: 0.9107139059837829, val acc: 0.6869902483960415\n",
      "\n",
      "Epoch 7\n",
      " train loss: 0.809690138812039, train acc: 0.7221818687275079\n",
      " val loss: 0.8650270563490847, val acc: 0.7024157803109352\n",
      "\n",
      "Epoch 8\n",
      " train loss: 0.7797933318388309, train acc: 0.7325550079127771\n",
      " val loss: 0.8485796629114354, val acc: 0.7074024824385947\n",
      "\n",
      "Epoch 9\n",
      " train loss: 0.7625830599006395, train acc: 0.7386597350266996\n",
      " val loss: 0.8378415036708751, val acc: 0.7103945037151905\n",
      "\n",
      "Epoch 10\n",
      " train loss: 0.7550547673780695, train acc: 0.7412060917622428\n",
      " val loss: 0.8379780008437786, val acc: 0.7117242909492331\n",
      "\n",
      "Epoch 11\n",
      " train loss: 0.7588759832887807, train acc: 0.7387862366775708\n",
      " val loss: 0.8391452119705525, val acc: 0.7120345744680852\n",
      "\n",
      "Epoch 12\n",
      " train loss: 0.7707082502802721, train acc: 0.7358236485033193\n",
      " val loss: 0.8497775214783689, val acc: 0.705186170212766\n",
      "\n",
      "Epoch 13\n",
      " train loss: 0.7931714917122773, train acc: 0.7274092453271424\n",
      " val loss: 0.8540161908941066, val acc: 0.702969858240574\n",
      "\n",
      "Epoch 14\n",
      " train loss: 0.8148606353638594, train acc: 0.7203986027994801\n",
      " val loss: 0.8966827907460801, val acc: 0.6893617021276596\n",
      "\n",
      "Epoch 15\n",
      " train loss: 0.8311530353818123, train acc: 0.7128166623917532\n",
      " val loss: 0.9014170382885223, val acc: 0.6871453901554676\n",
      "\n",
      "Epoch 16\n",
      " train loss: 0.8439558467110942, train acc: 0.7076708998061185\n",
      " val loss: 0.8865044510110895, val acc: 0.6909574468085107\n",
      "\n",
      "Epoch 17\n",
      " train loss: 0.8529704768326426, train acc: 0.703671813882901\n",
      " val loss: 0.8910624245379833, val acc: 0.6970744680851064\n",
      "\n",
      "Epoch 18\n",
      " train loss: 0.8469963616383359, train acc: 0.7066221598951211\n",
      " val loss: 0.9164188643719288, val acc: 0.6778147164811479\n",
      "\n",
      "Epoch 19\n",
      " train loss: 0.8436086503635595, train acc: 0.7078218856720864\n",
      " val loss: 0.8916667324431399, val acc: 0.6906471632896586\n",
      "\n"
     ]
    }
   ],
   "source": [
    "# CosineAnnealingLR \n",
    "net = BasicBlockNet().to(device)\n",
    "optimizer = optim.SGD(net.parameters(), lr=0.1, momentum=0.9)\n",
    "scheduler = optim.lr_scheduler.CosineAnnealingLR(optimizer, T_max=10)\n",
    "tr_loss_log, tr_acc_log, val_loss_log, val_acc_log = train(\n",
    "    net, optimizer, 20, train_loader, val_loader, scheduler\n",
    ")"
   ]
  },
  {
   "cell_type": "code",
   "execution_count": null,
   "metadata": {},
   "outputs": [
    {
     "name": "stdout",
     "output_type": "stream",
     "text": [
      "test loss: 0.9156776093373633, test accuracy: 0.6857085987261147\n"
     ]
    }
   ],
   "source": [
    "test_loss, test_acc = test(net, test_loader)\n",
    "print(f\"test loss: {test_loss}, test accuracy: {test_acc}\")"
   ]
  },
  {
   "cell_type": "markdown",
   "metadata": {
    "id": "5a_zMNNVO9Du",
    "pycharm": {
     "name": "#%% md\n"
    }
   },
   "source": [
    "`Выводы`\n",
    "* Из трёх вариантов lr_scheduler лучшим оказался исходный MultiStepLR, с метрикой accuracy на тесте - 0.711, на втором месте CosineAnnealingLR - 0.685, незначительно хуже себя показал ReduceLROnPlateau - 0.683, "
   ]
  },
  {
   "cell_type": "markdown",
   "metadata": {
    "id": "7xFXgl_3_E--",
    "pycharm": {
     "name": "#%% md\n"
    }
   },
   "source": [
    "## 4. Аугментации данных (2 балла)"
   ]
  },
  {
   "cell_type": "markdown",
   "metadata": {
    "id": "5G0Easo9O9Du",
    "pycharm": {
     "name": "#%% md\n"
    }
   },
   "source": [
    "Еще одной стандартной техникой, применяющейся в глубинном обучении, а особенно часто в компьютерном зрении, являются аугментации данных. Суть аугментаций состоит в том, что мы можем некоторым синтетическим образом видоизменять объекты обучающей выборки, тем самым расширяя ее, а также делая итоговую модель более устойчивой к таким изменениям.\n",
    "\n",
    "Простейшая аугментация, которую можно применить к картинкам — разворот картинки по горизонтальной оси. То есть при обучении модели с вероятностью $0.5$ мы будем разворачивать картинку из обучающей выборки."
   ]
  },
  {
   "cell_type": "code",
   "execution_count": null,
   "metadata": {
    "id": "SzeFpgtfO9Du",
    "pycharm": {
     "name": "#%%\n"
    }
   },
   "outputs": [
    {
     "data": {
      "image/png": "[encoded data removed]",
      "text/plain": [
       "<Figure size 640x480 with 1 Axes>"
      ]
     },
     "metadata": {},
     "output_type": "display_data"
    },
    {
     "data": {
      "image/png": "[encoded data removed]",
      "text/plain": [
       "<Figure size 640x480 with 1 Axes>"
      ]
     },
     "metadata": {},
     "output_type": "display_data"
    }
   ],
   "source": [
    "dataiter = iter(train_loader)\n",
    "images, labels = next(dataiter)\n",
    "\n",
    "imshow(torchvision.utils.make_grid(images[:4]))\n",
    "\n",
    "imshow(torchvision.utils.make_grid(transforms.functional.hflip(images[:4])))"
   ]
  },
  {
   "cell_type": "markdown",
   "metadata": {
    "id": "BR4a-XJQO9Du",
    "pycharm": {
     "name": "#%% md\n"
    }
   },
   "source": [
    "Наиболее удобным способом работы с аугментациями в PyTorch является их задание в списке <code>transforms</code>, который затем передается в загрузчик данных. Обучим нашу сеть, применяя горизонтальные повороты:"
   ]
  },
  {
   "cell_type": "code",
   "execution_count": null,
   "metadata": {
    "id": "na0ScBf-_AqX",
    "pycharm": {
     "name": "#%%\n"
    },
    "scrolled": true
   },
   "outputs": [
    {
     "name": "stdout",
     "output_type": "stream",
     "text": [
      "Epoch 0\n",
      " train loss: 1.4930579808338034, train acc: 0.4662689345410363\n",
      " val loss: 1.2886617087303325, val acc: 0.5438608156873824\n",
      "\n",
      "Epoch 1\n",
      " train loss: 1.203512008599869, train acc: 0.5783167929274509\n",
      " val loss: 1.238563848809993, val acc: 0.5723847518575952\n",
      "\n",
      "Epoch 2\n",
      " train loss: 1.0786599633462686, train acc: 0.6242573126142597\n",
      " val loss: 1.112558977401003, val acc: 0.6026152483960415\n",
      "\n",
      "Epoch 3\n",
      " train loss: 1.0293406519419097, train acc: 0.6433631496629941\n",
      " val loss: 0.980648868388318, val acc: 0.6591755319148936\n",
      "\n",
      "Epoch 4\n",
      " train loss: 0.9835419449989277, train acc: 0.6603715069987003\n",
      " val loss: 1.0103187327689314, val acc: 0.648160461161999\n",
      "\n",
      "Epoch 5\n",
      " train loss: 0.9516159364684627, train acc: 0.6701121377116801\n",
      " val loss: 0.9818985477406927, val acc: 0.6656028369639783\n",
      "\n",
      "Epoch 6\n",
      " train loss: 0.9230756091134422, train acc: 0.6797466701955638\n",
      " val loss: 0.9697488082216141, val acc: 0.6734485816448292\n",
      "\n",
      "Epoch 7\n",
      " train loss: 0.9131667997545037, train acc: 0.6833213633113631\n",
      " val loss: 0.9820188710030089, val acc: 0.6667553191489362\n",
      "\n",
      "Epoch 8\n",
      " train loss: 0.8946310047475686, train acc: 0.6884793680590293\n",
      " val loss: 0.9413447684430062, val acc: 0.6775930851063829\n",
      "\n",
      "Epoch 9\n",
      " train loss: 0.8816380057300031, train acc: 0.6950941825697583\n",
      " val loss: 0.9250874450866212, val acc: 0.6832446808510638\n",
      "\n",
      "Epoch 10\n",
      " train loss: 0.7944761151805438, train acc: 0.725132214739728\n",
      " val loss: 0.8183301201526155, val acc: 0.7186613476022761\n",
      "\n",
      "Epoch 11\n",
      " train loss: 0.7782594652018991, train acc: 0.7318000783650052\n",
      " val loss: 0.8129898743426546, val acc: 0.7204787234042553\n",
      "\n",
      "Epoch 12\n",
      " train loss: 0.768459843161773, train acc: 0.733848589756807\n",
      " val loss: 0.8104446875288132, val acc: 0.7235150710065315\n",
      "\n",
      "Epoch 13\n",
      " train loss: 0.7615181491514447, train acc: 0.7363051711096407\n",
      " val loss: 0.8148142943990991, val acc: 0.7181515957446809\n",
      "\n",
      "Epoch 14\n",
      " train loss: 0.7610794184848639, train acc: 0.7373171847524765\n",
      " val loss: 0.8051319968193136, val acc: 0.7263519505237012\n",
      "\n",
      "Epoch 15\n",
      " train loss: 0.7462105326068467, train acc: 0.7421691368659192\n",
      " val loss: 0.7960043080309605, val acc: 0.7271054965384462\n",
      "\n",
      "Epoch 16\n",
      " train loss: 0.746165653305908, train acc: 0.7430342453271424\n",
      " val loss: 0.7981500350414439, val acc: 0.7285904255319149\n",
      "\n",
      "Epoch 17\n",
      " train loss: 0.7440004599922536, train acc: 0.7438299818274308\n",
      " val loss: 0.7984138155237157, val acc: 0.7260416667512123\n",
      "\n",
      "Epoch 18\n",
      " train loss: 0.7456742805144468, train acc: 0.742569045458241\n",
      " val loss: 0.7992710355748521, val acc: 0.72690602845334\n",
      "\n",
      "Epoch 19\n",
      " train loss: 0.7442790154892086, train acc: 0.7432954101065613\n",
      " val loss: 0.7983671788205492, val acc: 0.7272163122258288\n",
      "\n"
     ]
    }
   ],
   "source": [
    "transform = transforms.Compose(\n",
    "    [\n",
    "        transforms.RandomHorizontalFlip(),\n",
    "        transforms.ToTensor(),\n",
    "        transforms.Normalize((0.5, 0.5, 0.5), (0.5, 0.5, 0.5)),\n",
    "    ]\n",
    ")\n",
    "\n",
    "train_loader, val_loader, test_loader = get_cifar10_data(\n",
    "    batch_size=64, transform_train=transform\n",
    ")\n",
    "\n",
    "net = BasicBlockNet().to(device)\n",
    "optimizer = optim.SGD(net.parameters(), lr=0.1, momentum=0.9)\n",
    "scheduler = optim.lr_scheduler.MultiStepLR(optimizer, milestones=[10, 15], gamma=0.1)\n",
    "tr_loss_log, tr_acc_log, val_loss_log, val_acc_log = train(\n",
    "    net, optimizer, 20, train_loader, val_loader, scheduler\n",
    ")"
   ]
  },
  {
   "cell_type": "markdown",
   "metadata": {
    "id": "v3ZIqDQqO9Dv",
    "pycharm": {
     "name": "#%% md\n"
    }
   },
   "source": [
    "Посчитайте точность на тестовой выборке:"
   ]
  },
  {
   "cell_type": "code",
   "execution_count": null,
   "metadata": {
    "id": "nNJizMkM_Auh",
    "pycharm": {
     "name": "#%%\n"
    }
   },
   "outputs": [
    {
     "name": "stdout",
     "output_type": "stream",
     "text": [
      "test loss: 0.8073904626308732, test accuracy: 0.7205414012738853\n"
     ]
    }
   ],
   "source": [
    "test_loss, test_acc = test(net, test_loader)\n",
    "print(f\"test loss: {test_loss}, test accuracy: {test_acc}\")"
   ]
  },
  {
   "cell_type": "markdown",
   "metadata": {},
   "source": [
    "`Выводы`\n",
    "* После аугментации картинок (RandomHorizontalFlip) получаем увеличение точности ~ на 1% (с 0.711 до 0.720)"
   ]
  },
  {
   "cell_type": "markdown",
   "metadata": {
    "id": "KndehSCHO9Dv",
    "pycharm": {
     "name": "#%% md\n"
    }
   },
   "source": [
    "**Задание 4.1 (2 балла).** Изучите, какие еще способы аугментаций изображений представлены в <code>torchvision.transforms</code>. Выберите несколько из них, объясните, как они устроены, и обучите модель с ними (по отдельности и вместе). Удалось ли добиться улучшения качества на тестовой выборке?"
   ]
  },
  {
   "cell_type": "markdown",
   "metadata": {},
   "source": [
    "`Применим ещё 2 метода аугментации данных - RandomCrop (случайно вырезает участок изображения с заданным размером и отступом) и ColorJitter (случайно меняет яркость, контрастность, насыщенность и оттенок), затем попробуем объединить все 3 метода (включая RandomHorizontalFlip) и посмотрим на результат`"
   ]
  },
  {
   "cell_type": "code",
   "execution_count": null,
   "metadata": {
    "id": "Np4rgvdZ_QRF",
    "pycharm": {
     "name": "#%%\n"
    }
   },
   "outputs": [
    {
     "name": "stdout",
     "output_type": "stream",
     "text": [
      "Epoch 0\n",
      " train loss: 1.6506568452775805, train acc: 0.3976886916422103\n",
      " val loss: 1.4556968699110315, val acc: 0.46999113483631866\n",
      "\n",
      "Epoch 1\n",
      " train loss: 1.387560404523853, train acc: 0.5045867067586352\n",
      " val loss: 1.3246078503892778, val acc: 0.5311170212765958\n",
      "\n",
      "Epoch 2\n",
      " train loss: 1.25492687776712, train acc: 0.5545344738463379\n",
      " val loss: 1.261760776854576, val acc: 0.5549423759287976\n",
      "\n",
      "Epoch 3\n",
      " train loss: 1.1992816137221438, train acc: 0.5756194503259398\n",
      " val loss: 1.1772917818515858, val acc: 0.5862145390916378\n",
      "\n",
      "Epoch 4\n",
      " train loss: 1.1570519719960703, train acc: 0.5947293680590293\n",
      " val loss: 1.228312221232881, val acc: 0.56875\n",
      "\n",
      "Epoch 5\n",
      " train loss: 1.1127400850465137, train acc: 0.6103625294277394\n",
      " val loss: 1.1504321184564144, val acc: 0.6064937944107868\n",
      "\n",
      "Epoch 6\n",
      " train loss: 1.090901503833164, train acc: 0.6161856882315013\n",
      " val loss: 1.147634659168568, val acc: 0.5990913120990103\n",
      "\n",
      "Epoch 7\n",
      " train loss: 1.069038746779754, train acc: 0.6244695090724519\n",
      " val loss: 1.0752386808395387, val acc: 0.627548758907521\n",
      "\n",
      "Epoch 8\n",
      " train loss: 1.0419691695373716, train acc: 0.6352099112662363\n",
      " val loss: 1.1109417025079118, val acc: 0.6116356382978724\n",
      "\n",
      "Epoch 9\n",
      " train loss: 1.0342503425408107, train acc: 0.6383846957897138\n",
      " val loss: 1.1184201534758222, val acc: 0.6120124114320633\n",
      "\n",
      "Epoch 10\n",
      " train loss: 0.9276468862781141, train acc: 0.6760740403283448\n",
      " val loss: 0.9302963832591442, val acc: 0.683067376055616\n",
      "\n",
      "Epoch 11\n",
      " train loss: 0.915215112391512, train acc: 0.6811341082156249\n",
      " val loss: 0.9241241630087508, val acc: 0.6786790781832756\n",
      "\n",
      "Epoch 12\n",
      " train loss: 0.9050162513033781, train acc: 0.6846435100548446\n",
      " val loss: 0.9222424253504327, val acc: 0.6814273050490846\n",
      "\n",
      "Epoch 13\n",
      " train loss: 0.8997070987656086, train acc: 0.6850597414935529\n",
      " val loss: 0.9267654809545963, val acc: 0.679188829787234\n",
      "\n",
      "Epoch 14\n",
      " train loss: 0.8979769605169349, train acc: 0.6877693262570955\n",
      " val loss: 0.9235984677964069, val acc: 0.6817375888215734\n",
      "\n",
      "Epoch 15\n",
      " train loss: 0.8867292951186353, train acc: 0.6950411334552102\n",
      " val loss: 0.9134309936077036, val acc: 0.6862588654173182\n",
      "\n",
      "Epoch 16\n",
      " train loss: 0.8847682716859542, train acc: 0.691503166716539\n",
      " val loss: 0.9113815852936278, val acc: 0.686968085106383\n",
      "\n",
      "Epoch 17\n",
      " train loss: 0.8831987649038897, train acc: 0.6916011034679587\n",
      " val loss: 0.906643407902819, val acc: 0.6910239361702127\n",
      "\n",
      "Epoch 18\n",
      " train loss: 0.8818808999968185, train acc: 0.692282580370441\n",
      " val loss: 0.904521167024653, val acc: 0.688940602921425\n",
      "\n",
      "Epoch 19\n",
      " train loss: 0.8781524165456867, train acc: 0.6948411791590493\n",
      " val loss: 0.9048030721380356, val acc: 0.6878546100981692\n",
      "\n"
     ]
    }
   ],
   "source": [
    "# RandomCrop\n",
    "transform = transforms.Compose(\n",
    "    [\n",
    "        transforms.RandomCrop(32, padding=4),  # Вырезаем 32x32 с отступом 4 пикселя\n",
    "        transforms.ToTensor(),\n",
    "        transforms.Normalize((0.5, 0.5, 0.5), (0.5, 0.5, 0.5)),\n",
    "    ]\n",
    ")\n",
    "\n",
    "train_loader, val_loader, test_loader = get_cifar10_data(\n",
    "    batch_size=64, transform_train=transform\n",
    ")\n",
    "\n",
    "net = BasicBlockNet().to(device)\n",
    "optimizer = optim.SGD(net.parameters(), lr=0.1, momentum=0.9)\n",
    "scheduler = optim.lr_scheduler.MultiStepLR(optimizer, milestones=[10, 15], gamma=0.1)\n",
    "tr_loss_log, tr_acc_log, val_loss_log, val_acc_log = train(\n",
    "    net, optimizer, 20, train_loader, val_loader, scheduler\n",
    ")"
   ]
  },
  {
   "cell_type": "code",
   "execution_count": null,
   "metadata": {},
   "outputs": [
    {
     "name": "stdout",
     "output_type": "stream",
     "text": [
      "test loss: 0.8415904728470335, test accuracy: 0.7054140127388535\n"
     ]
    }
   ],
   "source": [
    "test_loss, test_acc = test(net, test_loader)\n",
    "print(f\"test loss: {test_loss}, test accuracy: {test_acc}\")"
   ]
  },
  {
   "cell_type": "code",
   "execution_count": null,
   "metadata": {},
   "outputs": [
    {
     "name": "stdout",
     "output_type": "stream",
     "text": [
      "Epoch 0\n",
      " train loss: 1.6416772309779248, train acc: 0.4143175438073697\n",
      " val loss: 1.417573742156333, val acc: 0.50815602845334\n",
      "\n",
      "Epoch 1\n",
      " train loss: 1.324471006554703, train acc: 0.5385789371059844\n",
      " val loss: 1.3580213425007273, val acc: 0.5189716312479465\n",
      "\n",
      "Epoch 2\n",
      " train loss: 1.215978496362348, train acc: 0.5777944633686128\n",
      " val loss: 1.219233287395315, val acc: 0.5832446808510638\n",
      "\n",
      "Epoch 3\n",
      " train loss: 1.1636596874519503, train acc: 0.5997649517312128\n",
      " val loss: 1.184168419178496, val acc: 0.5883643617021277\n",
      "\n",
      "Epoch 4\n",
      " train loss: 1.1224852342710199, train acc: 0.6148635414880198\n",
      " val loss: 1.166321683690903, val acc: 0.5939937944107867\n",
      "\n",
      "Epoch 5\n",
      " train loss: 1.0884675843406204, train acc: 0.6271994973667361\n",
      " val loss: 1.1147847708235397, val acc: 0.6215868795171697\n",
      "\n",
      "Epoch 6\n",
      " train loss: 1.0596481293603315, train acc: 0.6374461347921675\n",
      " val loss: 1.0947765127141424, val acc: 0.6279255319148936\n",
      "\n",
      "Epoch 7\n",
      " train loss: 1.0437015916137415, train acc: 0.6421715853637053\n",
      " val loss: 1.1108912090037733, val acc: 0.6211214539852549\n",
      "\n",
      "Epoch 8\n",
      " train loss: 1.0238084292934844, train acc: 0.6504758096264311\n",
      " val loss: 1.0648631897378475, val acc: 0.630474290949233\n",
      "\n",
      "Epoch 9\n",
      " train loss: 1.0107881823449074, train acc: 0.653866871292456\n",
      " val loss: 1.0445273427253075, val acc: 0.6389184398854032\n",
      "\n",
      "Epoch 10\n",
      " train loss: 0.916566651144237, train acc: 0.6880427331985459\n",
      " val loss: 0.9559780506377524, val acc: 0.6720744680851064\n",
      "\n",
      "Epoch 11\n",
      " train loss: 0.8942104745826512, train acc: 0.6968652063357547\n",
      " val loss: 0.9463590472302539, val acc: 0.6754875888215734\n",
      "\n",
      "Epoch 12\n",
      " train loss: 0.8875500334246285, train acc: 0.6969631431961408\n",
      " val loss: 0.940673905230583, val acc: 0.6800088654173181\n",
      "\n",
      "Epoch 13\n",
      " train loss: 0.8892790982448641, train acc: 0.6948452599523708\n",
      " val loss: 0.9466410312246769, val acc: 0.6773714539852548\n",
      "\n",
      "Epoch 14\n",
      " train loss: 0.8769221044327703, train acc: 0.7018885479548731\n",
      " val loss: 0.9374405805100786, val acc: 0.6789671986661059\n",
      "\n",
      "Epoch 15\n",
      " train loss: 0.8657369282389472, train acc: 0.7048388940760597\n",
      " val loss: 0.9268595616868202, val acc: 0.6827570922831272\n",
      "\n",
      "Epoch 16\n",
      " train loss: 0.8667027991149282, train acc: 0.7023945547762911\n",
      " val loss: 0.9178498930119453, val acc: 0.6872783688788718\n",
      "\n",
      "Epoch 17\n",
      " train loss: 0.8667403579412039, train acc: 0.7038268804332238\n",
      " val loss: 0.9283158413907315, val acc: 0.6841090425531915\n",
      "\n",
      "Epoch 18\n",
      " train loss: 0.8639962633959336, train acc: 0.7056509533137683\n",
      " val loss: 0.9302496111139338, val acc: 0.680097517815042\n",
      "\n",
      "Epoch 19\n",
      " train loss: 0.8639941111997015, train acc: 0.7058223427104776\n",
      " val loss: 0.9272826473763649, val acc: 0.6824911348363186\n",
      "\n"
     ]
    }
   ],
   "source": [
    "# ColorJitter\n",
    "transform = transforms.Compose(\n",
    "    [\n",
    "        transforms.ColorJitter(brightness=0.5, contrast=0.5, saturation=0.5, hue=0.1),\n",
    "        transforms.ToTensor(),\n",
    "        transforms.Normalize((0.5, 0.5, 0.5), (0.5, 0.5, 0.5)),\n",
    "    ]\n",
    ")\n",
    "\n",
    "train_loader, val_loader, test_loader = get_cifar10_data(\n",
    "    batch_size=64, transform_train=transform\n",
    ")\n",
    "\n",
    "net = BasicBlockNet().to(device)\n",
    "optimizer = optim.SGD(net.parameters(), lr=0.1, momentum=0.9)\n",
    "scheduler = optim.lr_scheduler.MultiStepLR(optimizer, milestones=[10, 15], gamma=0.1)\n",
    "tr_loss_log, tr_acc_log, val_loss_log, val_acc_log = train(\n",
    "    net, optimizer, 20, train_loader, val_loader, scheduler\n",
    ")"
   ]
  },
  {
   "cell_type": "code",
   "execution_count": null,
   "metadata": {},
   "outputs": [
    {
     "name": "stdout",
     "output_type": "stream",
     "text": [
      "test loss: 0.8834834170948928, test accuracy: 0.6959593949044586\n"
     ]
    }
   ],
   "source": [
    "test_loss, test_acc = test(net, test_loader)\n",
    "print(f\"test loss: {test_loss}, test accuracy: {test_acc}\")"
   ]
  },
  {
   "cell_type": "code",
   "execution_count": null,
   "metadata": {},
   "outputs": [
    {
     "name": "stdout",
     "output_type": "stream",
     "text": [
      "Epoch 0\n",
      " train loss: 1.820765884964296, train acc: 0.3391347284508798\n",
      " val loss: 1.6370175863834138, val acc: 0.4052526595744681\n",
      "\n",
      "Epoch 1\n",
      " train loss: 1.585632682936283, train acc: 0.4270166819012797\n",
      " val loss: 1.537643135354874, val acc: 0.4518173759287976\n",
      "\n",
      "Epoch 2\n",
      " train loss: 1.4440605566314195, train acc: 0.4890637243033763\n",
      " val loss: 1.38999760658183, val acc: 0.5126773050490846\n",
      "\n",
      "Epoch 3\n",
      " train loss: 1.3602988612063407, train acc: 0.520876860814731\n",
      " val loss: 1.308832572876139, val acc: 0.5392508865670955\n",
      "\n",
      "Epoch 4\n",
      " train loss: 1.3164540884481706, train acc: 0.5394562876202724\n",
      " val loss: 1.2918165201836445, val acc: 0.5412677305809995\n",
      "\n",
      "Epoch 5\n",
      " train loss: 1.2667228134938089, train acc: 0.5570359428360432\n",
      " val loss: 1.3400181747497397, val acc: 0.5422872340425532\n",
      "\n",
      "Epoch 6\n",
      " train loss: 1.2511198643792483, train acc: 0.5630019261370629\n",
      " val loss: 1.231126503234214, val acc: 0.5714982269926274\n",
      "\n",
      "Epoch 7\n",
      " train loss: 1.227277174946159, train acc: 0.5742973034734917\n",
      " val loss: 1.268803105202127, val acc: 0.5656693263256803\n",
      "\n",
      "Epoch 8\n",
      " train loss: 1.2051769299960442, train acc: 0.5825239945155393\n",
      " val loss: 1.219430133129688, val acc: 0.5783023050490846\n",
      "\n",
      "Epoch 9\n",
      " train loss: 1.1962301135063171, train acc: 0.5809161987775423\n",
      " val loss: 1.1601749729602895, val acc: 0.5940159574468085\n",
      "\n",
      "Epoch 10\n",
      " train loss: 1.1021857721496109, train acc: 0.6199358514283649\n",
      " val loss: 1.0935781471272732, val acc: 0.6200797872340426\n",
      "\n",
      "Epoch 11\n",
      " train loss: 1.0891118779696756, train acc: 0.6244980739719035\n",
      " val loss: 1.0883039619060273, val acc: 0.6190381206096487\n",
      "\n",
      "Epoch 12\n",
      " train loss: 1.0794918734369157, train acc: 0.6249918386312899\n",
      " val loss: 1.082059294365822, val acc: 0.6262632978723405\n",
      "\n",
      "Epoch 13\n",
      " train loss: 1.0762772043618685, train acc: 0.6284604336269595\n",
      " val loss: 1.0779116354090101, val acc: 0.6249778369639782\n",
      "\n",
      "Epoch 14\n",
      " train loss: 1.0775590121637098, train acc: 0.6258283820840951\n",
      " val loss: 1.0557597835013206, val acc: 0.6379654255319149\n",
      "\n",
      "Epoch 15\n",
      " train loss: 1.060216216653095, train acc: 0.6354506725149137\n",
      " val loss: 1.0622209138058603, val acc: 0.6325576241980208\n",
      "\n",
      "Epoch 16\n",
      " train loss: 1.0587167916393803, train acc: 0.63297776842466\n",
      " val loss: 1.058567239883098, val acc: 0.635815602921425\n",
      "\n",
      "Epoch 17\n",
      " train loss: 1.0623228788593788, train acc: 0.6317331549018567\n",
      " val loss: 1.0642214199329945, val acc: 0.6341312058428501\n",
      "\n",
      "Epoch 18\n",
      " train loss: 1.0568868311929092, train acc: 0.6354914795763967\n",
      " val loss: 1.0635159672574794, val acc: 0.6324689716734785\n",
      "\n",
      "Epoch 19\n",
      " train loss: 1.0572015970019144, train acc: 0.6366993667220721\n",
      " val loss: 1.0569118375473834, val acc: 0.6350620567798615\n",
      "\n"
     ]
    }
   ],
   "source": [
    "# Compose из всех методов\n",
    "transform = transforms.Compose(\n",
    "    [\n",
    "        transforms.RandomCrop(32, padding=4),\n",
    "        transforms.ColorJitter(brightness=0.5, contrast=0.5, saturation=0.5, hue=0.1),\n",
    "        transforms.RandomHorizontalFlip(),\n",
    "        transforms.ToTensor(),\n",
    "        transforms.Normalize((0.5, 0.5, 0.5), (0.5, 0.5, 0.5)),\n",
    "    ]\n",
    ")\n",
    "\n",
    "train_loader, val_loader, test_loader = get_cifar10_data(\n",
    "    batch_size=64, transform_train=transform\n",
    ")\n",
    "\n",
    "net = BasicBlockNet().to(device)\n",
    "optimizer = optim.SGD(net.parameters(), lr=0.1, momentum=0.9)\n",
    "scheduler = optim.lr_scheduler.MultiStepLR(optimizer, milestones=[10, 15], gamma=0.1)\n",
    "tr_loss_log, tr_acc_log, val_loss_log, val_acc_log = train(\n",
    "    net, optimizer, 20, train_loader, val_loader, scheduler\n",
    ")"
   ]
  },
  {
   "cell_type": "code",
   "execution_count": null,
   "metadata": {},
   "outputs": [
    {
     "name": "stdout",
     "output_type": "stream",
     "text": [
      "test loss: 0.9219723157821946, test accuracy: 0.6840167197452229\n"
     ]
    }
   ],
   "source": [
    "# Обучение в полтора раза дольше\n",
    "test_loss, test_acc = test(net, test_loader)\n",
    "print(f\"test loss: {test_loss}, test accuracy: {test_acc}\")"
   ]
  },
  {
   "cell_type": "markdown",
   "metadata": {
    "id": "4K-MptLiO9Dv",
    "pycharm": {
     "name": "#%% md\n"
    }
   },
   "source": [
    "`Выводы`\n",
    "* Лучшим из методов аугментации показал себя RandomHorizontalFlip (test accuracy 0.720), остальные эксперименты показали себя хуже, причём даже хуже результатов без аугментации (test accuracy 0.711), тогда как после аугментации RandomCrop (0.705), ColorJitter (0.696) и Compose из 3-х методов (0.684)"
   ]
  },
  {
   "cell_type": "markdown",
   "metadata": {
    "id": "HCENjLw5O9Dv",
    "pycharm": {
     "name": "#%% md\n"
    }
   },
   "source": [
    "## Бонус. Логирование в wandb (1 балл)"
   ]
  },
  {
   "cell_type": "markdown",
   "metadata": {
    "id": "xOyzc1mnO9Dv",
    "pycharm": {
     "name": "#%% md\n"
    }
   },
   "source": [
    "На практике специалиста по глубинному обучению часто встречаются ситуации, когда нейросеть учится на каком-то удаленном сервере. И обычно вам хочется отслеживать прогресс обучения, особенно когда время обучения модели исчисляется днями или неделями. Для таких целей существует несколько инструментов. Вероятно, самый популярный из них — [wandb](https://wandb.ai/site).\n",
    "\n",
    "Ваша задача состоит в том, чтобы разобраться как им пользоваться, и повторить задания 2.1 и 2.2 с его использованием. Обучение вы можете запускать в этом же ноутбуке, но теперь вам необходимо через wandb логировать значения функции потерь и точности на обучающей выборке и на валидационной. Результатом работы должны быть ваш код и публичная ссылка на страничку с графиками, идентичными графикам в задании 2.2.\n",
    "\n",
    "Если вас смущает, что WandB грозится забанить вас, то можете разобраться с любым его аналогом и приложить ссылку на аналог."
   ]
  },
  {
   "cell_type": "code",
   "execution_count": null,
   "metadata": {
    "id": "m5gSTLAr_QS4",
    "pycharm": {
     "name": "#%%\n"
    }
   },
   "outputs": [
    {
     "name": "stderr",
     "output_type": "stream",
     "text": [
      "wandb: Logging into wandb.ai. (Learn how to deploy a W&B server locally: https://wandb.me/wandb-server)\n",
      "wandb: You can find your API key in your browser here: https://wandb.ai/authorize\n",
      "wandb: Paste an API key from your profile and hit enter:wandb: WARNING If you're specifying your api key in code, ensure this code is not shared publicly.\n",
      "wandb: WARNING Consider setting the WANDB_API_KEY environment variable, or running `wandb login` from the command line.\n",
      "wandb: No netrc file found, creating one.\n",
      "wandb: Appending key for api.wandb.ai to your netrc file: C:\\Users\\dimas\\_netrc\n",
      "wandb: Currently logged in as: dimasix-100 (dimasix-100-hse-university) to https://api.wandb.ai. Use `wandb login --relogin` to force relogin\n"
     ]
    },
    {
     "data": {
      "text/plain": [
       "True"
      ]
     },
     "execution_count": 15,
     "metadata": {},
     "output_type": "execute_result"
    }
   ],
   "source": [
    "wandb.login()"
   ]
  },
  {
   "cell_type": "code",
   "execution_count": null,
   "metadata": {},
   "outputs": [
    {
     "data": {
      "text/html": [],
      "text/plain": [
       "<IPython.core.display.HTML object>"
      ]
     },
     "metadata": {},
     "output_type": "display_data"
    },
    {
     "data": {
      "text/html": [
       "<br>    <style><br>        .wandb-row {<br>            display: flex;<br>            flex-direction: row;<br>            flex-wrap: wrap;<br>            justify-content: flex-start;<br>            width: 100%;<br>        }<br>        .wandb-col {<br>            display: flex;<br>            flex-direction: column;<br>            flex-basis: 100%;<br>            flex: 1;<br>            padding: 10px;<br>        }<br>    </style><br><div class=\"wandb-row\"><div class=\"wandb-col\"><h3>Run history:</h3><br/><table class=\"wandb\"><tr><td>epoch</td><td>▁▁▂▂▂▃▃▄▄▄▅▅▅▆▆▇▇▇██</td></tr><tr><td>learning_rate</td><td>▁▁▁▁▁▁▁▁▁▁▁▁▁▁▁▁▁▁▁▁</td></tr><tr><td>test_accuracy</td><td>▁</td></tr><tr><td>test_loss</td><td>▁</td></tr><tr><td>train_accuracy</td><td>▁▄▅▆▆▆▇▇▇▇▇▇▇███████</td></tr><tr><td>train_loss</td><td>█▅▄▃▃▃▃▂▂▂▂▂▂▂▁▁▁▁▁▁</td></tr><tr><td>val_accuracy</td><td>▁▄▃▆▇▇▆▇▇▇▇▇▇█▇█▇▇█▇</td></tr><tr><td>val_loss</td><td>█▆▆▃▂▂▂▂▂▂▂▂▂▁▂▁▂▂▁▂</td></tr></table><br/></div><div class=\"wandb-col\"><h3>Run summary:</h3><br/><table class=\"wandb\"><tr><td>epoch</td><td>20</td></tr><tr><td>learning_rate</td><td>0.1</td></tr><tr><td>test_accuracy</td><td>0.67974</td></tr><tr><td>test_loss</td><td>0.92129</td></tr><tr><td>train_accuracy</td><td>0.73595</td></tr><tr><td>train_loss</td><td>0.75724</td></tr><tr><td>val_accuracy</td><td>0.68958</td></tr><tr><td>val_loss</td><td>0.91316</td></tr></table><br/></div></div>"
      ],
      "text/plain": [
       "<IPython.core.display.HTML object>"
      ]
     },
     "metadata": {},
     "output_type": "display_data"
    },
    {
     "data": {
      "text/html": [
       " View run <strong style=\"color:#cdcd00\">net-hw2</strong> at: <a href='https://wandb.ai/dimasix-100-hse-university/pytorch-hw2/runs/xkimqk42' target=\"_blank\">https://wandb.ai/dimasix-100-hse-university/pytorch-hw2/runs/xkimqk42</a><br> View project at: <a href='https://wandb.ai/dimasix-100-hse-university/pytorch-hw2' target=\"_blank\">https://wandb.ai/dimasix-100-hse-university/pytorch-hw2</a><br>Synced 5 W&B file(s), 0 media file(s), 0 artifact file(s) and 0 other file(s)"
      ],
      "text/plain": [
       "<IPython.core.display.HTML object>"
      ]
     },
     "metadata": {},
     "output_type": "display_data"
    },
    {
     "data": {
      "text/html": [
       "Find logs at: <code>.\\wandb\\run-20250425_234741-xkimqk42\\logs</code>"
      ],
      "text/plain": [
       "<IPython.core.display.HTML object>"
      ]
     },
     "metadata": {},
     "output_type": "display_data"
    }
   ],
   "source": [
    "# Инициализация проекта\n",
    "config = {\n",
    "    \"learning_rate\": 0.1,\n",
    "    \"momentum\": 0.9,\n",
    "    \"epochs\": 20,\n",
    "    \"batch_size\": 64,\n",
    "    \"scheduler\": None,\n",
    "    \"model\": \"BasicBlockNet\",\n",
    "    \"dataset\": \"CIFAR-10\"\n",
    "}\n",
    "\n",
    "wandb.init(project=\"pytorch-hw2\", config=config, name=\"net-hw2\")\n",
    "wandb.watch(net)\n",
    "\n",
    "# Train + val\n",
    "net = BasicBlockNet().to(device)\n",
    "optimizer = optim.SGD(net.parameters(), lr=0.1, momentum=0.9)\n",
    "train_loss_log, train_acc_log, val_loss_log, val_acc_log = train(\n",
    "    net, optimizer, 20, train_loader, val_loader\n",
    ")\n",
    "\n",
    "# Test + wandb log\n",
    "test_loss, test_acc = test(net, test_loader)\n",
    "wandb.log({\"test_loss\": test_loss, \"test_accuracy\": test_acc})\n",
    "\n",
    "# Завершение \n",
    "wandb.finish()"
   ]
  },
  {
   "cell_type": "markdown",
   "metadata": {},
   "source": [
    "`Ссылка на отчёт в wandb`\n",
    "\n",
    "* https://api.wandb.ai/links/dimasix-100-hse-university/v6poa309"
   ]
  }
 ],
 "metadata": {
  "accelerator": "GPU",
  "colab": {
   "collapsed_sections": [],
   "provenance": []
  },
  "kernelspec": {
   "display_name": "data_sc",
   "language": "python",
   "name": "python3"
  },
  "language_info": {
   "codemirror_mode": {
    "name": "ipython",
    "version": 3
   },
   "file_extension": ".py",
   "mimetype": "text/x-python",
   "name": "python",
   "nbconvert_exporter": "python",
   "pygments_lexer": "ipython3",
   "version": "3.10.15"
  },
  "widgets": {
   "application/vnd.jupyter.widget-state+json": {
    "0fee9f5b7bdb4129a71ef0cfe9d3b1fa": {
     "model_module": "@jupyter-widgets/controls",
     "model_module_version": "1.5.0",
     "model_name": "ProgressStyleModel",
     "state": {
      "_model_module": "@jupyter-widgets/controls",
      "_model_module_version": "1.5.0",
      "_model_name": "ProgressStyleModel",
      "_view_count": null,
      "_view_module": "@jupyter-widgets/base",
      "_view_module_version": "1.2.0",
      "_view_name": "StyleView",
      "bar_color": null,
      "description_width": ""
     }
    },
    "17b2be81159e41f1a5c6bb966516572e": {
     "model_module": "@jupyter-widgets/base",
     "model_module_version": "1.2.0",
     "model_name": "LayoutModel",
     "state": {
      "_model_module": "@jupyter-widgets/base",
      "_model_module_version": "1.2.0",
      "_model_name": "LayoutModel",
      "_view_count": null,
      "_view_module": "@jupyter-widgets/base",
      "_view_module_version": "1.2.0",
      "_view_name": "LayoutView",
      "align_content": null,
      "align_items": null,
      "align_self": null,
      "border": null,
      "bottom": null,
      "display": null,
      "flex": null,
      "flex_flow": null,
      "grid_area": null,
      "grid_auto_columns": null,
      "grid_auto_flow": null,
      "grid_auto_rows": null,
      "grid_column": null,
      "grid_gap": null,
      "grid_row": null,
      "grid_template_areas": null,
      "grid_template_columns": null,
      "grid_template_rows": null,
      "height": null,
      "justify_content": null,
      "justify_items": null,
      "left": null,
      "margin": null,
      "max_height": null,
      "max_width": null,
      "min_height": null,
      "min_width": null,
      "object_fit": null,
      "object_position": null,
      "order": null,
      "overflow": null,
      "overflow_x": null,
      "overflow_y": null,
      "padding": null,
      "right": null,
      "top": null,
      "visibility": null,
      "width": null
     }
    },
    "18b20091dbf64b129824a8fb3266e3c0": {
     "model_module": "@jupyter-widgets/controls",
     "model_module_version": "1.5.0",
     "model_name": "DescriptionStyleModel",
     "state": {
      "_model_module": "@jupyter-widgets/controls",
      "_model_module_version": "1.5.0",
      "_model_name": "DescriptionStyleModel",
      "_view_count": null,
      "_view_module": "@jupyter-widgets/base",
      "_view_module_version": "1.2.0",
      "_view_name": "StyleView",
      "description_width": ""
     }
    },
    "22bb21a6c57a413fb7374efe31349e6e": {
     "model_module": "@jupyter-widgets/base",
     "model_module_version": "1.2.0",
     "model_name": "LayoutModel",
     "state": {
      "_model_module": "@jupyter-widgets/base",
      "_model_module_version": "1.2.0",
      "_model_name": "LayoutModel",
      "_view_count": null,
      "_view_module": "@jupyter-widgets/base",
      "_view_module_version": "1.2.0",
      "_view_name": "LayoutView",
      "align_content": null,
      "align_items": null,
      "align_self": null,
      "border": null,
      "bottom": null,
      "display": null,
      "flex": null,
      "flex_flow": null,
      "grid_area": null,
      "grid_auto_columns": null,
      "grid_auto_flow": null,
      "grid_auto_rows": null,
      "grid_column": null,
      "grid_gap": null,
      "grid_row": null,
      "grid_template_areas": null,
      "grid_template_columns": null,
      "grid_template_rows": null,
      "height": null,
      "justify_content": null,
      "justify_items": null,
      "left": null,
      "margin": null,
      "max_height": null,
      "max_width": null,
      "min_height": null,
      "min_width": null,
      "object_fit": null,
      "object_position": null,
      "order": null,
      "overflow": null,
      "overflow_x": null,
      "overflow_y": null,
      "padding": null,
      "right": null,
      "top": null,
      "visibility": null,
      "width": null
     }
    },
    "7d238166caf64537ad9aa2040dcdc1ec": {
     "model_module": "@jupyter-widgets/controls",
     "model_module_version": "1.5.0",
     "model_name": "DescriptionStyleModel",
     "state": {
      "_model_module": "@jupyter-widgets/controls",
      "_model_module_version": "1.5.0",
      "_model_name": "DescriptionStyleModel",
      "_view_count": null,
      "_view_module": "@jupyter-widgets/base",
      "_view_module_version": "1.2.0",
      "_view_name": "StyleView",
      "description_width": ""
     }
    },
    "95c5696493db48738dbdc9940acec1d8": {
     "model_module": "@jupyter-widgets/controls",
     "model_module_version": "1.5.0",
     "model_name": "HTMLModel",
     "state": {
      "_dom_classes": [],
      "_model_module": "@jupyter-widgets/controls",
      "_model_module_version": "1.5.0",
      "_model_name": "HTMLModel",
      "_view_count": null,
      "_view_module": "@jupyter-widgets/controls",
      "_view_module_version": "1.5.0",
      "_view_name": "HTMLView",
      "description": "",
      "description_tooltip": null,
      "layout": "IPY_MODEL_22bb21a6c57a413fb7374efe31349e6e",
      "placeholder": "​",
      "style": "IPY_MODEL_18b20091dbf64b129824a8fb3266e3c0",
      "value": "100%"
     }
    },
    "9bad0d6a00c14229b0d776a2cfe15090": {
     "model_module": "@jupyter-widgets/base",
     "model_module_version": "1.2.0",
     "model_name": "LayoutModel",
     "state": {
      "_model_module": "@jupyter-widgets/base",
      "_model_module_version": "1.2.0",
      "_model_name": "LayoutModel",
      "_view_count": null,
      "_view_module": "@jupyter-widgets/base",
      "_view_module_version": "1.2.0",
      "_view_name": "LayoutView",
      "align_content": null,
      "align_items": null,
      "align_self": null,
      "border": null,
      "bottom": null,
      "display": null,
      "flex": null,
      "flex_flow": null,
      "grid_area": null,
      "grid_auto_columns": null,
      "grid_auto_flow": null,
      "grid_auto_rows": null,
      "grid_column": null,
      "grid_gap": null,
      "grid_row": null,
      "grid_template_areas": null,
      "grid_template_columns": null,
      "grid_template_rows": null,
      "height": null,
      "justify_content": null,
      "justify_items": null,
      "left": null,
      "margin": null,
      "max_height": null,
      "max_width": null,
      "min_height": null,
      "min_width": null,
      "object_fit": null,
      "object_position": null,
      "order": null,
      "overflow": null,
      "overflow_x": null,
      "overflow_y": null,
      "padding": null,
      "right": null,
      "top": null,
      "visibility": null,
      "width": null
     }
    },
    "aa9da821ba0c42b5b051355e50e691f0": {
     "model_module": "@jupyter-widgets/controls",
     "model_module_version": "1.5.0",
     "model_name": "HBoxModel",
     "state": {
      "_dom_classes": [],
      "_model_module": "@jupyter-widgets/controls",
      "_model_module_version": "1.5.0",
      "_model_name": "HBoxModel",
      "_view_count": null,
      "_view_module": "@jupyter-widgets/controls",
      "_view_module_version": "1.5.0",
      "_view_name": "HBoxView",
      "box_style": "",
      "children": [
       "IPY_MODEL_95c5696493db48738dbdc9940acec1d8",
       "IPY_MODEL_fe515a1f743f49d0b251b43919d52a8e",
       "IPY_MODEL_f4f339c969fd4e21bc683ecb2567897b"
      ],
      "layout": "IPY_MODEL_17b2be81159e41f1a5c6bb966516572e"
     }
    },
    "cd991379661b4b4ab405bf66f75c6834": {
     "model_module": "@jupyter-widgets/base",
     "model_module_version": "1.2.0",
     "model_name": "LayoutModel",
     "state": {
      "_model_module": "@jupyter-widgets/base",
      "_model_module_version": "1.2.0",
      "_model_name": "LayoutModel",
      "_view_count": null,
      "_view_module": "@jupyter-widgets/base",
      "_view_module_version": "1.2.0",
      "_view_name": "LayoutView",
      "align_content": null,
      "align_items": null,
      "align_self": null,
      "border": null,
      "bottom": null,
      "display": null,
      "flex": null,
      "flex_flow": null,
      "grid_area": null,
      "grid_auto_columns": null,
      "grid_auto_flow": null,
      "grid_auto_rows": null,
      "grid_column": null,
      "grid_gap": null,
      "grid_row": null,
      "grid_template_areas": null,
      "grid_template_columns": null,
      "grid_template_rows": null,
      "height": null,
      "justify_content": null,
      "justify_items": null,
      "left": null,
      "margin": null,
      "max_height": null,
      "max_width": null,
      "min_height": null,
      "min_width": null,
      "object_fit": null,
      "object_position": null,
      "order": null,
      "overflow": null,
      "overflow_x": null,
      "overflow_y": null,
      "padding": null,
      "right": null,
      "top": null,
      "visibility": null,
      "width": null
     }
    },
    "f4f339c969fd4e21bc683ecb2567897b": {
     "model_module": "@jupyter-widgets/controls",
     "model_module_version": "1.5.0",
     "model_name": "HTMLModel",
     "state": {
      "_dom_classes": [],
      "_model_module": "@jupyter-widgets/controls",
      "_model_module_version": "1.5.0",
      "_model_name": "HTMLModel",
      "_view_count": null,
      "_view_module": "@jupyter-widgets/controls",
      "_view_module_version": "1.5.0",
      "_view_name": "HTMLView",
      "description": "",
      "description_tooltip": null,
      "layout": "IPY_MODEL_cd991379661b4b4ab405bf66f75c6834",
      "placeholder": "​",
      "style": "IPY_MODEL_7d238166caf64537ad9aa2040dcdc1ec",
      "value": " 170498071/170498071 [00:13&lt;00:00, 13339884.37it/s]"
     }
    },
    "fe515a1f743f49d0b251b43919d52a8e": {
     "model_module": "@jupyter-widgets/controls",
     "model_module_version": "1.5.0",
     "model_name": "FloatProgressModel",
     "state": {
      "_dom_classes": [],
      "_model_module": "@jupyter-widgets/controls",
      "_model_module_version": "1.5.0",
      "_model_name": "FloatProgressModel",
      "_view_count": null,
      "_view_module": "@jupyter-widgets/controls",
      "_view_module_version": "1.5.0",
      "_view_name": "ProgressView",
      "bar_style": "success",
      "description": "",
      "description_tooltip": null,
      "layout": "IPY_MODEL_9bad0d6a00c14229b0d776a2cfe15090",
      "max": 170498071,
      "min": 0,
      "orientation": "horizontal",
      "style": "IPY_MODEL_0fee9f5b7bdb4129a71ef0cfe9d3b1fa",
      "value": 170498071
     }
    }
   }
  }
 },
 "nbformat": 4,
 "nbformat_minor": 1
}
